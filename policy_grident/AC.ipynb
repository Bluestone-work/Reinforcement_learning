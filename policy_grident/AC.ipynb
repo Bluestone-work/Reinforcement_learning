{
 "cells": [
  {
   "cell_type": "code",
   "execution_count": 1,
   "metadata": {},
   "outputs": [],
   "source": [
    "from tool import *\n",
    "import torch"
   ]
  },
  {
   "cell_type": "code",
   "execution_count": 2,
   "metadata": {},
   "outputs": [
    {
     "data": {
      "text/plain": [
       "(Actor(\n",
       "   (fc): Sequential(\n",
       "     (0): Linear(in_features=4, out_features=64, bias=True)\n",
       "     (1): ReLU()\n",
       "     (2): Linear(in_features=64, out_features=64, bias=True)\n",
       "     (3): ReLU()\n",
       "     (4): Linear(in_features=64, out_features=2, bias=True)\n",
       "     (5): Softmax(dim=1)\n",
       "   )\n",
       " ),\n",
       " Critic(\n",
       "   (fc): Sequential(\n",
       "     (0): Linear(in_features=4, out_features=64, bias=True)\n",
       "     (1): ReLU()\n",
       "     (2): Linear(in_features=64, out_features=64, bias=True)\n",
       "     (3): ReLU()\n",
       "     (4): Linear(in_features=64, out_features=2, bias=True)\n",
       "   )\n",
       " ))"
      ]
     },
     "execution_count": 2,
     "metadata": {},
     "output_type": "execute_result"
    }
   ],
   "source": [
    "class Critic(torch.nn.Module):\n",
    "    def __init__(self):\n",
    "        super(Critic, self).__init__()\n",
    "        self.fc = torch.nn.Sequential(\n",
    "            torch.nn.Linear(4, 64),\n",
    "            torch.nn.ReLU(),\n",
    "            torch.nn.Linear(64, 64),\n",
    "            torch.nn.ReLU(),\n",
    "            torch.nn.Linear(64, 2),\n",
    "        )\n",
    "\n",
    "    def forward(self, state):\n",
    "        return self.fc(state)  # Shape: [batch_size, num_actions]\n",
    "    \n",
    "class Actor(torch.nn.Module):\n",
    "    def __init__(self):\n",
    "        super(Actor, self).__init__()\n",
    "        self.fc = torch.nn.Sequential(\n",
    "            torch.nn.Linear(4, 64),\n",
    "            torch.nn.ReLU(),\n",
    "            torch.nn.Linear(64, 64),\n",
    "            torch.nn.ReLU(),\n",
    "            torch.nn.Linear(64, 2),\n",
    "            torch.nn.Softmax(dim=1),\n",
    "        )\n",
    "\n",
    "    def forward(self, state):\n",
    "        return self.fc(state)  # Shape: [batch_size, num_actions]\n",
    "    \n",
    "# Initialize Models\n",
    "model_actor = Actor()\n",
    "model_critic = Critic()\n",
    "model_critic_delay = Critic()\n",
    "model_critic_delay.load_state_dict(model_critic.state_dict())\n",
    "model_actor , model_critic"
   ]
  },
  {
   "cell_type": "code",
   "execution_count": 3,
   "metadata": {},
   "outputs": [],
   "source": [
    "# Initialize Optimizers (Removed duplicate definitions)\n",
    "learning_rate_actor = 1e-3  # Adjusted learning rate for actor\n",
    "learning_rate_critic = 1e-2  # Adjusted learning rate for critic\n",
    "\n",
    "optimizer_actor = torch.optim.Adam(model_actor.parameters(), lr=learning_rate_actor)\n",
    "optimizer_critic = torch.optim.Adam(model_critic.parameters(), lr=learning_rate_critic)"
   ]
  },
  {
   "cell_type": "code",
   "execution_count": 4,
   "metadata": {},
   "outputs": [],
   "source": [
    "from IPython import display\n",
    "import random\n",
    "\n",
    "def play(show = False):\n",
    "    state = []\n",
    "    action = []\n",
    "    reward = []\n",
    "    next_state = []\n",
    "    over = []\n",
    "    \n",
    "    s = env.reset()\n",
    "    o = False\n",
    "    while not o:\n",
    "        prob = model_actor(torch.FloatTensor(s).reshape(1, 4))[0].tolist()\n",
    "        a = random.choices(range(2), weights=prob, k=1)[0]\n",
    "        ns, r, o = env.step(a)\n",
    "\n",
    "        state.append(s)\n",
    "        action.append(a)\n",
    "        reward.append(r)\n",
    "        next_state.append(ns)\n",
    "        over.append(o)\n",
    "\n",
    "        s = ns\n",
    "\n",
    "        if show:\n",
    "            display.clear_output(wait=True)\n",
    "            env.show()\n",
    "\n",
    "    state = torch.FloatTensor(state).reshape(-1, 4)\n",
    "    action = torch.LongTensor(action).reshape(-1, 1)\n",
    "    reward = torch.FloatTensor(reward).reshape(-1, 1)\n",
    "    next_state = torch.FloatTensor(next_state).reshape(-1, 4)\n",
    "    over = torch.LongTensor(over).reshape(-1, 1)\n",
    "\n",
    "    return state, action, reward, next_state, over, reward.sum().item()"
   ]
  },
  {
   "cell_type": "code",
   "execution_count": 5,
   "metadata": {},
   "outputs": [],
   "source": [
    "# Define Helper Function to Toggle Gradients\n",
    "def requires_grad(model, value):\n",
    "    for param in model.parameters():\n",
    "        param.requires_grad = value"
   ]
  },
  {
   "cell_type": "code",
   "execution_count": 6,
   "metadata": {},
   "outputs": [],
   "source": [
    "import torch.nn.functional as F\n",
    "# Define Function to Train the Critic\n",
    "def train_critic(states, actions, rewards, next_states, overs):\n",
    "    requires_grad(model_actor, False)\n",
    "    requires_grad(model_critic, True)\n",
    "\n",
    "    # Get current Q-values for the actions taken\n",
    "    current_q_values = model_critic(states).gather(dim=1, index=actions)  # Shape: [batch_size, 1]\n",
    "\n",
    "    with torch.no_grad():\n",
    "        # For standard Q-Learning, use the max Q-value for the next state\n",
    "        next_q_values = model_critic_delay(next_states)  # Shape: [batch_size, num_actions]\n",
    "        max_next_q_values, _ = next_q_values.max(dim=1, keepdim=True)  # Shape: [batch_size, 1]\n",
    "        target_q_values = rewards + (1 - overs) * 0.99 * max_next_q_values  # Shape: [batch_size, 1]\n",
    "\n",
    "    # Compute Temporal Difference (TD) Loss\n",
    "    loss = F.mse_loss(current_q_values, target_q_values)\n",
    "\n",
    "    # Backpropagation and Optimization\n",
    "    optimizer_critic.zero_grad()  # Zero gradients before backward pass\n",
    "    loss.backward()\n",
    "    optimizer_critic.step()\n",
    "\n",
    "    return current_q_values.detach()"
   ]
  },
  {
   "cell_type": "code",
   "execution_count": 7,
   "metadata": {},
   "outputs": [
    {
     "name": "stderr",
     "output_type": "stream",
     "text": [
      "C:\\Users\\Jiangwang\\AppData\\Local\\Temp\\ipykernel_16068\\1864323377.py:30: UserWarning: Creating a tensor from a list of numpy.ndarrays is extremely slow. Please consider converting the list to a single numpy.ndarray with numpy.array() before converting to a tensor. (Triggered internally at C:\\cb\\pytorch_1000000000000\\work\\torch\\csrc\\utils\\tensor_new.cpp:281.)\n",
      "  state = torch.FloatTensor(state).reshape(-1, 4)\n"
     ]
    }
   ],
   "source": [
    "state, action, reward, next_state, over, reward_sum = play()"
   ]
  },
  {
   "cell_type": "code",
   "execution_count": 8,
   "metadata": {},
   "outputs": [],
   "source": [
    "def train_actor(states, actions, q_values):\n",
    "    requires_grad(model_actor, True)\n",
    "    requires_grad(model_critic, False)\n",
    "    \n",
    "    # Forward pass to get action probabilities\n",
    "    prob = model_actor(states)  # Shape: [batch_size, num_actions]\n",
    "\n",
    "    # Select the probabilities of the actions taken\n",
    "    selected_prob = prob.gather(1, actions)  # Shape: [batch_size, 1]\n",
    "\n",
    "    # Compute log probabilities and multiply by Q-values\n",
    "    log_prob = torch.log(torch.clamp(selected_prob, min=1e-8)) * q_values  # Shape: [batch_size, 1]\n",
    "    loss = -log_prob.mean()  # Negative to perform gradient ascent\n",
    "\n",
    "    # Backpropagation and Optimization\n",
    "    optimizer_actor.zero_grad()  # Zero gradients before backward pass\n",
    "    loss.backward()\n",
    "    optimizer_actor.step()\n",
    "\n",
    "    return loss.item()"
   ]
  },
  {
   "cell_type": "code",
   "execution_count": 9,
   "metadata": {},
   "outputs": [
    {
     "name": "stdout",
     "output_type": "stream",
     "text": [
      "0 -1.2467421293258667 -981.75\n",
      "100 -69.16089630126953 -655.6\n",
      "200 -93.46170043945312 -215.4\n",
      "300 -0.9103409647941589 200.0\n",
      "400 38.72722244262695 200.0\n",
      "500 58.340972900390625 200.0\n",
      "600 75.28013610839844 147.4\n",
      "700 81.35139465332031 149.05\n",
      "800 86.90966033935547 96.4\n",
      "900 94.02978515625 149.55\n"
     ]
    }
   ],
   "source": [
    "def train():\n",
    "    model_actor.train()\n",
    "    model_critic.train()\n",
    "\n",
    "    #训练N局\n",
    "    for epoch in range(1000):\n",
    "\n",
    "        #一个epoch最少玩N步\n",
    "        steps = 0\n",
    "        while steps < 200:\n",
    "            state, action, reward, next_state, over, _ = play()\n",
    "            steps += len(state)\n",
    "\n",
    "            #训练两个模型\n",
    "            value = train_critic(state,action, reward, next_state, over)\n",
    "            loss = train_actor(state, action, value)\n",
    "\n",
    "        #复制参数\n",
    "        for param, param_delay in zip(model_critic.parameters(),\n",
    "                                      model_critic_delay.parameters()):\n",
    "            value = param_delay.data * 0.7 + param.data * 0.3\n",
    "            param_delay.data.copy_(value)\n",
    "\n",
    "        if epoch % 100 == 0:\n",
    "            test_result = sum([play()[-1] for _ in range(20)]) / 20\n",
    "            print(epoch, loss, test_result)\n",
    "\n",
    "\n",
    "train()"
   ]
  },
  {
   "cell_type": "code",
   "execution_count": 10,
   "metadata": {},
   "outputs": [
    {
     "data": {
      "image/png": "[encoded data removed]",
      "text/plain": [
       "<Figure size 300x300 with 1 Axes>"
      ]
     },
     "metadata": {},
     "output_type": "display_data"
    },
    {
     "data": {
      "text/plain": [
       "200.0"
      ]
     },
     "execution_count": 10,
     "metadata": {},
     "output_type": "execute_result"
    }
   ],
   "source": [
    "play(True)[-1]"
   ]
  }
 ],
 "metadata": {
  "kernelspec": {
   "display_name": "lab",
   "language": "python",
   "name": "python3"
  },
  "language_info": {
   "codemirror_mode": {
    "name": "ipython",
    "version": 3
   },
   "file_extension": ".py",
   "mimetype": "text/x-python",
   "name": "python",
   "nbconvert_exporter": "python",
   "pygments_lexer": "ipython3",
   "version": "3.11.9"
  }
 },
 "nbformat": 4,
 "nbformat_minor": 2
}
