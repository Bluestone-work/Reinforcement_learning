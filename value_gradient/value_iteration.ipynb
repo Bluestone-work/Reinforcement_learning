{
 "cells": [
  {
   "cell_type": "code",
   "execution_count": 13,
   "metadata": {},
   "outputs": [],
   "source": [
    "import random\n",
    "import time\n",
    "\n",
    "import matplotlib.pyplot as plt\n",
    "import numpy as np\n",
    "from torch.utils import data\n",
    "from torch.utils.tensorboard import SummaryWriter  # 导入SummaryWriter\n",
    "\n",
    "import grid_env\n",
    "from model import *\n",
    "from render import *"
   ]
  },
  {
   "cell_type": "code",
   "execution_count": 14,
   "metadata": {},
   "outputs": [
    {
     "data": {
      "image/png": "[encoded data removed]",
      "text/plain": [
       "<Figure size 400x400 with 1 Axes>"
      ]
     },
     "metadata": {},
     "output_type": "display_data"
    }
   ],
   "source": [
    "env = grid_env.GridEnv(size=2, target=[1, 1], forbidden=[[1, 0]],render_mode='')"
   ]
  },
  {
   "cell_type": "markdown",
   "metadata": {},
   "source": [
    "首先我有一个Vk，当这个Vk还没有收敛的时候(收敛的情况就是Vk-Vk-1他还没有说小于一个很小的值)，我们就做下面的事：\n",
    "假设这是第k次的iteration，首先我们遍历所有的状态s，然后对于所有的状态s，我们遍历它所有的action，计算出来每一个s对应的action的这个qk，这里 $$qk = \\sum_r p(r \\mid s, a) r + \\gamma \\sum_{s'} p(s' \\mid s, a) v_k(s')$$\n",
    "首先，我们要看到哪一个action对应的是最大的qk，然后policy update就是选择这个action。value update就是这个最大的qk.$$ Vk+1 = maxaQk(a,s) $$"
   ]
  },
  {
   "cell_type": "code",
   "execution_count": 15,
   "metadata": {},
   "outputs": [],
   "source": [
    "def value_iteration(env, theta = 0.0001, gamma = 0.8, steps=100):\n",
    "    state_space_size = env.size ** 2\n",
    "    action_space_size = env.action_space_size\n",
    "    reward_list = env.reward_list\n",
    "    reward_space_size = len(reward_list)\n",
    "    \n",
    "    # 初始化状态值函数\n",
    "    state_value_k = np.zeros(shape=(state_space_size))  # 初始化状态值函数为全零的数组，形状为 (state_space_size)，记录每个状态的值。\n",
    "    policy = np.zeros(shape=(state_space_size, action_space_size))  # 初始化策略\n",
    "    \n",
    "    for step in range(steps):\n",
    "        delta = 0  # 用于记录状态值更新的最大变化\n",
    "        \n",
    "        # 遍历每一个状态\n",
    "        for state in range(state_space_size):\n",
    "            qvalue_list = []\n",
    "            \n",
    "            # 遍历每一个动作，计算每个动作的Q值\n",
    "            for action in range(action_space_size):\n",
    "                qvalue = 0\n",
    "                \n",
    "                # 累加奖励\n",
    "                for i in range(reward_space_size):\n",
    "                    qvalue += reward_list[i] * env.Rsa[state, action, i]\n",
    "                \n",
    "                # 累加未来状态值的折扣回报\n",
    "                for next_state in range(state_space_size):\n",
    "                    qvalue += gamma * env.Psa[state, action, next_state] * state_value_k[next_state]\n",
    "                \n",
    "                qvalue_list.append(qvalue)\n",
    "            \n",
    "            # 更新状态值函数\n",
    "            best_qvalue = max(qvalue_list)\n",
    "            delta = max(delta, np.abs(best_qvalue - state_value_k[state]))\n",
    "            state_value_k[state] = best_qvalue\n",
    "            \n",
    "            # 选择最优动作并更新策略\n",
    "            best_action = np.argmax(qvalue_list)\n",
    "            policy[state] = np.eye(action_space_size)[best_action]\n",
    "        \n",
    "        # 检查是否满足收敛条件\n",
    "        if delta < theta:\n",
    "            print(f\"Converged after {step + 1} steps.\")\n",
    "            break\n",
    "    \n",
    "    return policy, state_value_k"
   ]
  },
  {
   "cell_type": "code",
   "execution_count": 16,
   "metadata": {},
   "outputs": [
    {
     "name": "stdout",
     "output_type": "stream",
     "text": [
      "Converged after 43 steps.\n"
     ]
    }
   ],
   "source": [
    "policy , a =value_iteration(env)"
   ]
  },
  {
   "cell_type": "code",
   "execution_count": 17,
   "metadata": {},
   "outputs": [
    {
     "name": "stderr",
     "output_type": "stream",
     "text": [
      "e:\\Reinforcement_learning\\scripts\\render.py:153: UserWarning: Matplotlib is currently using module://matplotlib_inline.backend_inline, which is a non-GUI backend, so cannot show the figure.\n",
      "  self.fig.show()\n"
     ]
    },
    {
     "data": {
      "image/png": "[encoded data removed]",
      "text/plain": [
       "<Figure size 400x400 with 1 Axes>"
      ]
     },
     "metadata": {},
     "output_type": "display_data"
    }
   ],
   "source": [
    "# 定义动作对应的方向\n",
    "action_to_direction = {\n",
    "    0: np.array([-1, 0]),\n",
    "    1: np.array([0, 1]),\n",
    "    2: np.array([1, 0]),\n",
    "    3: np.array([0, -1]),\n",
    "    4: np.array([0, 0]),\n",
    "}\n",
    "render = Render(target=[1, 1], forbidden=[[1, 0]], size=2)\n",
    "# 绘制每个状态的最优动作\n",
    "for state in range(policy.shape[0]):\n",
    "    # 计算状态在网格中的位置\n",
    "    row, col = env.state2pos(state)\n",
    "    \n",
    "    # 找出当前状态下的最优动作\n",
    "    best_action = np.argmax(policy[state])\n",
    "    \n",
    "    # 根据最优动作绘制箭头\n",
    "    render.draw_action(pos=[row, col], toward=action_to_direction[best_action])\n",
    "\n",
    "# 显示结果\n",
    "render.show_frame()"
   ]
  }
 ],
 "metadata": {
  "kernelspec": {
   "display_name": "lab",
   "language": "python",
   "name": "python3"
  },
  "language_info": {
   "codemirror_mode": {
    "name": "ipython",
    "version": 3
   },
   "file_extension": ".py",
   "mimetype": "text/x-python",
   "name": "python",
   "nbconvert_exporter": "python",
   "pygments_lexer": "ipython3",
   "version": "3.11.9"
  }
 },
 "nbformat": 4,
 "nbformat_minor": 2
}
