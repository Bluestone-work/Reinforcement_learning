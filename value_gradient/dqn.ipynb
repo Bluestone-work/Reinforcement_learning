{
 "cells": [
  {
   "cell_type": "code",
   "execution_count": 1,
   "metadata": {},
   "outputs": [],
   "source": [
    "import random\n",
    "import time\n",
    "\n",
    "import matplotlib.pyplot as plt\n",
    "import numpy as np\n",
    "from torch.utils import data\n",
    "from torch.utils.tensorboard import SummaryWriter  # 导入SummaryWriter\n",
    "\n",
    "import grid_env\n",
    "from model import *\n",
    "from render import *"
   ]
  },
  {
   "cell_type": "code",
   "execution_count": 2,
   "metadata": {},
   "outputs": [
    {
     "data": {
      "image/png": "[encoded data removed]",
      "text/plain": [
       "<Figure size 1000x1000 with 1 Axes>"
      ]
     },
     "metadata": {},
     "output_type": "display_data"
    }
   ],
   "source": [
    "env = grid_env.GridEnv(size=5, target=[2, 3], forbidden=[[1, 1],[2, 1],[2, 2],[1, 3],[3, 3],[1, 4]], render_mode='')\n",
    "device = torch.device(\"cuda\" if torch.cuda.is_available() else \"cpu\")"
   ]
  },
  {
   "cell_type": "code",
   "execution_count": 3,
   "metadata": {},
   "outputs": [],
   "source": [
    "import torch.nn as nn\n",
    "import torch.nn.functional as F"
   ]
  },
  {
   "cell_type": "code",
   "execution_count": 4,
   "metadata": {},
   "outputs": [
    {
     "data": {
      "text/plain": [
       "<All keys matched successfully>"
      ]
     },
     "execution_count": 4,
     "metadata": {},
     "output_type": "execute_result"
    }
   ],
   "source": [
    "# 模型定义\n",
    "class Model(torch.nn.Module):\n",
    "    def __init__(self, num_states=25):\n",
    "        super().__init__()\n",
    "        self.embedding = torch.nn.Embedding(num_states, 8)  # 嵌入维度改为 8\n",
    "        self.fc1 = torch.nn.Linear(8, 64)\n",
    "        self.fc2 = torch.nn.Linear(64, 5)\n",
    "\n",
    "    def forward(self, state):\n",
    "        if isinstance(state, int):\n",
    "            state = torch.tensor([state], dtype=torch.long)\n",
    "        state = self.embedding(state).squeeze(1)\n",
    "        state = F.relu(self.fc1(state))\n",
    "        return self.fc2(state)\n",
    "\n",
    "# 模型和目标网络初始化\n",
    "model = Model().to(device)\n",
    "model_delay = Model().to(device)\n",
    "model_delay.load_state_dict(model.state_dict())\n"
   ]
  },
  {
   "cell_type": "code",
   "execution_count": 5,
   "metadata": {},
   "outputs": [],
   "source": [
    "\n",
    "from IPython import display\n",
    "import random\n",
    "\n",
    "def obtain_episode(env, Qnet, start_state, epsilon=0.1, length=1001):\n",
    "    # 初始化环境到初始状态\n",
    "    env.reset()\n",
    "    env.agent_loaction = env.state2pos(start_state)\n",
    "    next_state = start_state\n",
    "    episode = []\n",
    "    reward_sum = 0\n",
    "    for _ in range(length):\n",
    "        state = next_state\n",
    "        \n",
    "        # Epsilon-greedy 动作选择\n",
    "        if random.random() < epsilon:\n",
    "            # 从动作空间随机选择一个动作\n",
    "            action = random.choice(range(env.action_space_size))  # 对于离散动作空间，使用 env 提供的动作空间\n",
    "        else:\n",
    "            # 将 state 转换为 long tensor 传入 Q 网络\n",
    "            state_tensor = torch.tensor([state], dtype=torch.long).to(device)  # 将 state 移动到 GPU\n",
    "\n",
    "            # 前向传播获取动作价值\n",
    "            value_combined = Qnet(state_tensor)\n",
    "            # 选择价值最高的动作\n",
    "            action = value_combined.argmax(dim=-1).item()  # 使用 argmax 选择动作\n",
    "\n",
    "        # 执行选择的动作\n",
    "        observation, reward, done, _, _ = env.step(action)\n",
    "        reward_sum += reward\n",
    "        if done:\n",
    "            over = 1\n",
    "        else:\n",
    "            over = 0\n",
    "\n",
    "        # 获取下一个状态\n",
    "        next_state = env.pos2state(env.agent_location)\n",
    "\n",
    "        # 添加当前步骤的记录到 episode\n",
    "        episode.append([state,action,reward,next_state,over])\n",
    "\n",
    "        if done:\n",
    "            break  # 如果回合结束，退出循环\n",
    "\n",
    "    return episode , reward_sum\n"
   ]
  },
  {
   "cell_type": "code",
   "execution_count": 6,
   "metadata": {},
   "outputs": [],
   "source": [
    "# 经验回放池\n",
    "class Pool:\n",
    "    def __init__(self):\n",
    "        self.max_size = 20000\n",
    "        self.pool = []\n",
    "\n",
    "    def __len__(self):\n",
    "        return len(self.pool)\n",
    "\n",
    "    def update(self, k):\n",
    "        # 获取新episode\n",
    "        episode, treward = obtain_episode(env, model, 0, k)\n",
    "        \n",
    "        # 如果池大小超出最大限制，移除多余的数据\n",
    "        extra_size = len(self.pool) + len(episode) - self.max_size\n",
    "        if extra_size > 0:\n",
    "            self.pool = self.pool[extra_size:]  # 移除最旧的多余条目\n",
    "        \n",
    "        # 更新回放池，插入新的episode\n",
    "        self.pool.extend(episode)\n",
    "\n",
    "    def sample(self, k=64):\n",
    "        data = random.sample(self.pool, k)\n",
    "        state = torch.LongTensor([i[0] for i in data]).reshape(-1, 1).to(device)\n",
    "        action = torch.LongTensor([i[1] for i in data]).reshape(-1, 1).to(device)\n",
    "        reward = torch.FloatTensor([i[2] for i in data]).reshape(-1, 1).to(device)\n",
    "        next_state = torch.LongTensor([i[3] for i in data]).reshape(-1, 1).to(device)\n",
    "        over = torch.LongTensor([i[4] for i in data]).reshape(-1, 1).to(device)\n",
    "        return state, action, reward, next_state, over\n",
    "\n",
    "pool = Pool()"
   ]
  },
  {
   "cell_type": "code",
   "execution_count": 7,
   "metadata": {},
   "outputs": [
    {
     "name": "stdout",
     "output_type": "stream",
     "text": [
      "0 1001 -1012.0\n",
      "100 20000 -8727.0\n",
      "200 20000 -3971.0\n",
      "300 20000 -3575.0\n",
      "400 20000 -3773.0\n",
      "500 20000 -3773.0\n",
      "600 20000 -142.0\n",
      "700 20000 -246.0\n",
      "800 20000 -858.0\n",
      "900 20000 90.0\n"
     ]
    }
   ],
   "source": [
    "def train(env, epsilon=0.99, epsilon_decay=0.995, min_epsilon=0.1,gamma = 0.8):\n",
    "    model.train()\n",
    "    optimizer = torch.optim.Adam(model.parameters(), lr=2e-4)\n",
    "    loss_fn = torch.nn.MSELoss()\n",
    "\n",
    "    for epoch in range(1000):\n",
    "        pool.update(0.1)\n",
    "\n",
    "        for i in range(200):\n",
    "            state, action, reward, next_state, over = pool.sample()\n",
    "            state = state.long()\n",
    "            value = model(state).gather(dim=1, index=action)\n",
    "            with torch.no_grad():\n",
    "                next_action = model(next_state).argmax(dim=1, keepdim=True)\n",
    "                target = model_delay(next_state).gather(dim=1, index=next_action)\n",
    "\n",
    "            target = reward + gamma * target * (1 - over)  # 改善 TD 目标计算方式\n",
    "\n",
    "            loss = loss_fn(value, target)\n",
    "            loss.backward()\n",
    "            torch.nn.utils.clip_grad_norm_(model.parameters(), max_norm=1.0)  # 添加梯度裁剪\n",
    "            optimizer.step()\n",
    "            optimizer.zero_grad()\n",
    "\n",
    "        # 更频繁地更新目标网络\n",
    "        if (epoch + 1) % 2 == 0:\n",
    "            model_delay.load_state_dict(model.state_dict())\n",
    "\n",
    "        # Epsilon 衰减\n",
    "        epsilon = max(min_epsilon, epsilon * epsilon_decay)\n",
    "\n",
    "        # 每 100 个 epoch 进行一次测试\n",
    "        if epoch % 100 == 0:\n",
    "            _, treward = obtain_episode(env, model, 0, 0.1)\n",
    "            test_result = sum([treward for _ in range(20)]) / 20\n",
    "            print(epoch, len(pool), test_result)\n",
    "\n",
    "train(env)"
   ]
  },
  {
   "cell_type": "code",
   "execution_count": 8,
   "metadata": {},
   "outputs": [
    {
     "name": "stdout",
     "output_type": "stream",
     "text": [
      "[[0, 2, -1, 5, 0], [5, 2, -1, 10, 0], [10, 2, -1, 15, 0], [15, 1, -1, 16, 0], [16, 1, -1, 17, 0], [17, 2, -1, 22, 0], [22, 1, -1, 23, 0], [23, 1, -1, 24, 0], [24, 0, -1, 19, 0], [19, 0, -1, 14, 0], [14, 3, 100, 13, 1]]\n",
      "[[0. 0. 1. 0. 0.]\n",
      " [0. 0. 0. 1. 0.]\n",
      " [0. 0. 0. 1. 0.]\n",
      " [0. 0. 0. 1. 0.]\n",
      " [0. 0. 0. 1. 0.]\n",
      " [0. 0. 1. 0. 0.]\n",
      " [0. 0. 0. 1. 0.]\n",
      " [1. 0. 0. 0. 0.]\n",
      " [0. 0. 1. 0. 0.]\n",
      " [1. 0. 0. 0. 0.]\n",
      " [0. 0. 1. 0. 0.]\n",
      " [0. 0. 1. 0. 0.]\n",
      " [1. 0. 0. 0. 0.]\n",
      " [0. 0. 0. 0. 1.]\n",
      " [0. 0. 0. 1. 0.]\n",
      " [0. 1. 0. 0. 0.]\n",
      " [0. 1. 0. 0. 0.]\n",
      " [0. 0. 1. 0. 0.]\n",
      " [1. 0. 0. 0. 0.]\n",
      " [1. 0. 0. 0. 0.]\n",
      " [0. 1. 0. 0. 0.]\n",
      " [0. 1. 0. 0. 0.]\n",
      " [0. 1. 0. 0. 0.]\n",
      " [0. 1. 0. 0. 0.]\n",
      " [1. 0. 0. 0. 0.]]\n"
     ]
    }
   ],
   "source": [
    "# 通过模型获取一个episode\n",
    "episode, treward = obtain_episode(env, model, 0, 0)\n",
    "print(episode)\n",
    "\n",
    "state_space_size = env.size ** 2\n",
    "action_space_size = env.action_space_size\n",
    "policy = np.ones((state_space_size, action_space_size))\n",
    "\n",
    "for state in range(state_space_size):\n",
    "    # 将状态转换为张量，并确保其形状与模型期望的输入一致\n",
    "    state_tensor = torch.LongTensor([state]).to(device)\n",
    "    \n",
    "    # 模型预测的Q值，假设输出是所有动作的Q值\n",
    "    q_values = model(state_tensor)\n",
    "    \n",
    "    # 获取当前状态下最优的动作\n",
    "    best_action = q_values.argmax(dim=1).item()  # 获取最优动作索引\n",
    "    \n",
    "    # 直接在策略表中更新对应的最优动作的概率（这里可能是设置为1，或者某个概率分布）\n",
    "    # 注意：policy存储的是每个状态-动作对的值，因此应更新对应位置\n",
    "    for action in range(action_space_size):\n",
    "        if action == best_action:\n",
    "            policy[state][action] = 1.0  # 将最优动作的概率设为1\n",
    "        else:\n",
    "            policy[state][action] = 0.0  # 其他动作的概率设为0\n",
    "\n",
    "# 输出最终的策略\n",
    "print(policy)\n"
   ]
  },
  {
   "cell_type": "code",
   "execution_count": 9,
   "metadata": {},
   "outputs": [
    {
     "name": "stderr",
     "output_type": "stream",
     "text": [
      "e:\\Reinforcement_learning\\scripts\\render.py:153: UserWarning: Matplotlib is currently using module://matplotlib_inline.backend_inline, which is a non-GUI backend, so cannot show the figure.\n",
      "  self.fig.show()\n"
     ]
    },
    {
     "data": {
      "image/png": "[encoded data removed]",
      "text/plain": [
       "<Figure size 1000x1000 with 1 Axes>"
      ]
     },
     "metadata": {},
     "output_type": "display_data"
    }
   ],
   "source": [
    "# 定义动作对应的方向\n",
    "action_to_direction = {\n",
    "    0: np.array([-1, 0]),\n",
    "    1: np.array([0, 1]),\n",
    "    2: np.array([1, 0]),\n",
    "    3: np.array([0, -1]),\n",
    "    4: np.array([0, 0]),\n",
    "}\n",
    "render = Render(target=[2, 3], forbidden=[[1, 1],[2, 1],[2, 2],[1, 3],[3, 3],[1, 4]], size=5)\n",
    "# 绘制每个状态的最优动作\n",
    "for state in range(policy.shape[0]):\n",
    "    # 计算状态在网格中的位置\n",
    "    row, col = env.state2pos(state)\n",
    "    \n",
    "    # 找出当前状态下的最优动作\n",
    "    best_action = np.argmax(policy[state])\n",
    "    \n",
    "    # 根据最优动作绘制箭头\n",
    "    render.draw_action(pos=[row, col], toward=action_to_direction[best_action])\n",
    "\n",
    "# 显示结果\n",
    "render.show_frame()"
   ]
  }
 ],
 "metadata": {
  "kernelspec": {
   "display_name": "lab",
   "language": "python",
   "name": "python3"
  },
  "language_info": {
   "codemirror_mode": {
    "name": "ipython",
    "version": 3
   },
   "file_extension": ".py",
   "mimetype": "text/x-python",
   "name": "python",
   "nbconvert_exporter": "python",
   "pygments_lexer": "ipython3",
   "version": "3.11.9"
  }
 },
 "nbformat": 4,
 "nbformat_minor": 2
}
