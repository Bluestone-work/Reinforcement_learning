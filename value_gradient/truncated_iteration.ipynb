{
 "cells": [
  {
   "cell_type": "code",
   "execution_count": 5,
   "metadata": {},
   "outputs": [],
   "source": [
    "import random\n",
    "import time\n",
    "\n",
    "import matplotlib.pyplot as plt\n",
    "import numpy as np\n",
    "from torch.utils import data\n",
    "from torch.utils.tensorboard import SummaryWriter  # 导入SummaryWriter\n",
    "\n",
    "import grid_env\n",
    "from model import *"
   ]
  },
  {
   "cell_type": "code",
   "execution_count": 6,
   "metadata": {},
   "outputs": [
    {
     "data": {
      "image/png": "[encoded data removed]",
      "text/plain": [
       "<Figure size 1000x1000 with 1 Axes>"
      ]
     },
     "metadata": {},
     "output_type": "display_data"
    }
   ],
   "source": [
    "env = grid_env.GridEnv(size=5, target=[2, 3], forbidden=[[1, 1],[2, 1],[2, 2],[1, 3],[3, 3],[1, 4]], render_mode='')"
   ]
  },
  {
   "cell_type": "code",
   "execution_count": 7,
   "metadata": {},
   "outputs": [],
   "source": [
    "def truncated_iteration(env, theta = 0.0001, gamma = 0.8, steps=100 , truncated = 5):\n",
    "    state_space_size = env.size ** 2\n",
    "    action_space_size = env.action_space_size\n",
    "    reward_list = env.reward_list\n",
    "    reward_space_size = len(reward_list)\n",
    "    \n",
    "    state_value_k = np.zeros(shape=(state_space_size))  # 初始化状态值函数为全零的数组，形状为 (state_space_size)，记录每个状态的值。\n",
    "    policy = np.ones(shape=(state_space_size, action_space_size)) / action_space_size  # 初始化策略为均匀分布\n",
    "    for step in range (steps):\n",
    "        for _ in range(truncated):\n",
    "            state_value_k_new = np.copy(state_value_k)  # 创建新的状态值来更新\n",
    "            for state in range(state_space_size):\n",
    "                state_value_new = 0\n",
    "                for action in range(action_space_size):\n",
    "                    action_value = 0\n",
    "                    for i in range(reward_space_size):\n",
    "                        action_value += env.Rsa[state, action, i] * reward_list[i]\n",
    "                    \n",
    "                    for next_state in range(state_space_size):\n",
    "                        action_value += gamma * env.Psa[state, action, next_state] * state_value_k[next_state]                    \n",
    "                    state_value_new += policy[state, action] * action_value\n",
    "\n",
    "                state_value_k[state] = state_value_new\n",
    "            state_value_k = state_value_k_new  # 更新状态值函数\n",
    "            \n",
    "        policy_stable = True  # 假设策略稳定\n",
    "        for state in range(state_space_size):\n",
    "            qvalue_list = []\n",
    "            for action in range(action_space_size):\n",
    "                qvalue = 0\n",
    "                for i in range(reward_space_size):\n",
    "                    qvalue += env.Rsa[state, action, i] * reward_list[i]\n",
    "                for next_state in range(state_space_size):\n",
    "                    qvalue += gamma * env.Psa[state, action, next_state] * state_value_k[next_state]\n",
    "                    \n",
    "                qvalue_list.append(qvalue)\n",
    "            best_action = np.argmax(qvalue_list)\n",
    "            \n",
    "            # 更新策略\n",
    "            new_policy = np.eye(action_space_size)[best_action]#np.eye(action_space_size) 会生成一个大小为 action_space_size 的单位矩阵（identity matrix）。\n",
    "            if not np.array_equal(policy[state], new_policy):\n",
    "                policy_stable = False\n",
    "            policy[state] = new_policy\n",
    "        \n",
    "        # 如果策略稳定，则停止\n",
    "        if policy_stable:\n",
    "            print(f\"Policy converged after {step + 1} steps.\")\n",
    "            break\n",
    "        \n",
    "    return policy, state_value_k"
   ]
  },
  {
   "cell_type": "code",
   "execution_count": null,
   "metadata": {},
   "outputs": [],
   "source": [
    "def truncated_policy_iteration(env, theta=0.0001, gamma=0.8, steps=100, truncated=5):\n",
    "    state_space_size = env.size ** 2\n",
    "    action_space_size = env.action_space_size\n",
    "    reward_list = env.reward_list\n",
    "    reward_space_size = len(reward_list)\n",
    "\n",
    "    state_value_k = np.zeros(shape=(state_space_size))  # 初始化状态值函数为全零的数组\n",
    "    policy = np.ones(shape=(state_space_size, action_space_size)) / action_space_size  # 初始化策略为均匀分布\n",
    "\n",
    "    for step in range(steps):\n",
    "        # 1. 策略评估 (截断到指定次数)\n",
    "        for _ in range(truncated):\n",
    "            state_value_k_new = np.copy(state_value_k)  # 创建新的状态值来更新\n",
    "            for state in range(state_space_size):\n",
    "                state_value_new = 0\n",
    "                for action in range(action_space_size):\n",
    "                    action_value = 0\n",
    "                    for i in range(reward_space_size):\n",
    "                        action_value += env.Rsa[state, action, i] * reward_list[i]\n",
    "                    \n",
    "                    for next_state in range(state_space_size):\n",
    "                        action_value += gamma * env.Psa[state, action, next_state] * state_value_k[next_state]\n",
    "                    \n",
    "                    state_value_new += policy[state, action] * action_value\n",
    "                \n",
    "                state_value_k_new[state] = state_value_new\n",
    "\n",
    "            state_value_k = state_value_k_new  # 更新状态值函数\n",
    "\n",
    "        # 2. 策略改进\n",
    "        policy_stable = True  # 假设策略稳定\n",
    "        for state in range(state_space_size):\n",
    "            qvalue_list = []\n",
    "            for action in range(action_space_size):\n",
    "                qvalue = 0\n",
    "                for i in range(reward_space_size):\n",
    "                    qvalue += env.Rsa[state, action, i] * reward_list[i]\n",
    "                \n",
    "                for next_state in range(state_space_size):\n",
    "                    qvalue += gamma * env.Psa[state, action, next_state] * state_value_k[next_state]\n",
    "                \n",
    "                qvalue_list.append(qvalue)\n",
    "\n",
    "            # 选择最优动作\n",
    "            best_action = np.argmax(qvalue_list)\n",
    "            \n",
    "            # 更新策略\n",
    "            new_policy = np.eye(action_space_size)[best_action]\n",
    "            if not np.array_equal(policy[state], new_policy):\n",
    "                policy_stable = False\n",
    "            policy[state] = new_policy\n",
    "        \n",
    "        # 如果策略稳定，则停止\n",
    "        if policy_stable:\n",
    "            print(f\"Policy converged after {step + 1} steps.\")\n",
    "            break\n",
    "\n",
    "    return policy, state_value_k"
   ]
  },
  {
   "cell_type": "code",
   "execution_count": 8,
   "metadata": {},
   "outputs": [
    {
     "name": "stdout",
     "output_type": "stream",
     "text": [
      "Policy converged after 9 steps.\n",
      "[[0. 0. 1. 0. 0.]\n",
      " [0. 0. 0. 1. 0.]\n",
      " [0. 0. 0. 1. 0.]\n",
      " [0. 0. 0. 1. 0.]\n",
      " [0. 0. 0. 1. 0.]\n",
      " [0. 0. 1. 0. 0.]\n",
      " [0. 0. 0. 1. 0.]\n",
      " [1. 0. 0. 0. 0.]\n",
      " [0. 0. 1. 0. 0.]\n",
      " [0. 0. 1. 0. 0.]\n",
      " [0. 0. 1. 0. 0.]\n",
      " [0. 0. 1. 0. 0.]\n",
      " [0. 1. 0. 0. 0.]\n",
      " [0. 0. 0. 0. 1.]\n",
      " [0. 0. 0. 1. 0.]\n",
      " [0. 1. 0. 0. 0.]\n",
      " [0. 1. 0. 0. 0.]\n",
      " [0. 0. 1. 0. 0.]\n",
      " [1. 0. 0. 0. 0.]\n",
      " [1. 0. 0. 0. 0.]\n",
      " [0. 1. 0. 0. 0.]\n",
      " [0. 1. 0. 0. 0.]\n",
      " [0. 1. 0. 0. 0.]\n",
      " [0. 1. 0. 0. 0.]\n",
      " [1. 0. 0. 0. 0.]] [0.53687091 0.42949673 0.34359738 0.27487791 0.21990233 0.67108864\n",
      " 0.53687091 0.27487791 5.         4.         0.8388608  1.048576\n",
      " 5.         5.         5.         1.048576   1.31072    1.6384\n",
      " 5.         4.         1.31072    1.6384     2.048      2.56\n",
      " 3.2       ]\n"
     ]
    }
   ],
   "source": [
    "policy , state_value_k = truncated_policy_iteration(env,truncated=20)\n",
    "print(policy , state_value_k)"
   ]
  },
  {
   "cell_type": "code",
   "execution_count": null,
   "metadata": {},
   "outputs": [],
   "source": []
  }
 ],
 "metadata": {
  "kernelspec": {
   "display_name": "lab",
   "language": "python",
   "name": "python3"
  },
  "language_info": {
   "codemirror_mode": {
    "name": "ipython",
    "version": 3
   },
   "file_extension": ".py",
   "mimetype": "text/x-python",
   "name": "python",
   "nbconvert_exporter": "python",
   "pygments_lexer": "ipython3",
   "version": "3.11.9"
  }
 },
 "nbformat": 4,
 "nbformat_minor": 2
}
